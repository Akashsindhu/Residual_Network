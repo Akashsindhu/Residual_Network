{
 "cells": [
  {
   "cell_type": "code",
   "execution_count": 9,
   "metadata": {},
   "outputs": [
    {
     "name": "stdout",
     "output_type": "stream",
     "text": [
      "2.0.0\n"
     ]
    }
   ],
   "source": [
    "import tensorflow as tf\n",
    "print(tf.__version__)\n",
    "from tensorflow.keras.models import Model\n",
    "from tensorflow.keras.layers import Layer, BatchNormalization, Conv2D, Dense, Flatten, Add\n",
    "import numpy as np\n",
    "from tensorflow.keras.datasets import mnist\n",
    "import time"
   ]
  },
  {
   "cell_type": "markdown",
   "metadata": {},
   "source": [
    "# Residual network for the MNIST dataset"
   ]
  },
  {
   "cell_type": "markdown",
   "metadata": {},
   "source": [
    "#### Create a customized layer for the Residual Block\n",
    "\n",
    "- Batch normalization\n",
    "- ReLU activation function\n",
    "- Conv2D layer with a 3x3 kernel, padding='SAME', and filters taken as input in the layer\n",
    "- Batch normalization\n",
    "- ReLU activation function\n",
    "- Conv2D layer with a 3x3 kernel, padding='SAME', and same number of filters as the previous Conv2D layer\n",
    "\n",
    "Create an \"if clause\" to check if the input and output last dimension are the same. If yes, add both in the return. If not, before adding apply to the inputs a shortcut projection: a Conv2D layer with a 1x1 kernel, padding='SAME', and same number of filters as the previous Conv2D layers\n"
   ]
  },
  {
   "cell_type": "code",
   "execution_count": 6,
   "metadata": {},
   "outputs": [],
   "source": [
    "class ResidualBlock(Layer):\n",
    "\n",
    "    def __init__(self,filters):\n",
    "        super(ResidualBlock, self).__init__()\n",
    "        \n",
    "        self.bn_1 = BatchNormalization()\n",
    "        self.bn_2 = BatchNormalization()\n",
    "        self.conv_1 = Conv2D(filters, 3, padding='SAME')\n",
    "        self.conv_2 = Conv2D(filters, 3, padding='SAME')\n",
    "        self.conv_adjust_dim = Conv2D(filters, 1, padding='SAME')\n",
    "        \n",
    "    def call(self, inputs):\n",
    "        x = self.bn_1(inputs, training=True)\n",
    "        x = tf.nn.relu(x)\n",
    "        x = self.conv_1(x)\n",
    "        x = self.bn_2(x, training=True)\n",
    "        x = tf.nn.relu(x) \n",
    "        x = self.conv_2(x)\n",
    "        \n",
    "        if x.shape[-1]==inputs.shape[-1]:\n",
    "            return Add()([x,inputs])   # They need to have the same dimensions (filters add dimensions)\n",
    "        else:            \n",
    "            return Add()([x,self.conv_adjust_dim(inputs)])\n",
    "    \n",
    "ResLayer = ResidualBlock(filters=32)\n"
   ]
  },
  {
   "cell_type": "markdown",
   "metadata": {},
   "source": [
    "#### Create a customized model that integrates the Residual Blocks\n",
    "\n",
    "- Downsample with a Conv2d layer with 32 filters, 7x7 kernel and strides=2\n",
    "- Apply a ResidualBlock with 32 filters\n",
    "- Downsample with a Conv2d layer with 64 filters, 3x3 kernel and strides=2\n",
    "- Apply a ResidualBlock with 64 filters\n",
    "- Apply a flatten layer\n",
    "- Apply a Dense layer with 10 units and softmax activation function"
   ]
  },
  {
   "cell_type": "code",
   "execution_count": 7,
   "metadata": {},
   "outputs": [
    {
     "name": "stdout",
     "output_type": "stream",
     "text": [
      "(1000, 10)\n",
      "Model: \"my_model_1\"\n",
      "_________________________________________________________________\n",
      "Layer (type)                 Output Shape              Param #   \n",
      "=================================================================\n",
      "conv2d_14 (Conv2D)           multiple                  1600      \n",
      "_________________________________________________________________\n",
      "conv2d_15 (Conv2D)           multiple                  18496     \n",
      "_________________________________________________________________\n",
      "residual_block_4 (ResidualBl multiple                  18752     \n",
      "_________________________________________________________________\n",
      "residual_block_5 (ResidualBl multiple                  74368     \n",
      "_________________________________________________________________\n",
      "flatten_1 (Flatten)          multiple                  0         \n",
      "_________________________________________________________________\n",
      "dense_1 (Dense)              multiple                  16010     \n",
      "=================================================================\n",
      "Total params: 129,226\n",
      "Trainable params: 128,842\n",
      "Non-trainable params: 384\n",
      "_________________________________________________________________\n"
     ]
    }
   ],
   "source": [
    "class MyModel(Model):\n",
    "\n",
    "    def __init__(self):\n",
    "        super(MyModel, self).__init__()\n",
    "        self.Downsample_1 = Conv2D(32, 7, strides=2)\n",
    "        self.Downsample_2 = Conv2D(64, 3, strides=2)\n",
    "        self.ResBlock_1 = ResidualBlock(32)\n",
    "        self.ResBlock_2 = ResidualBlock(64)\n",
    "        self.Flatten = Flatten()\n",
    "        self.DenseFinal = Dense(10, activation='softmax')\n",
    "        \n",
    "        \n",
    "    def call(self, inputs):\n",
    "        x = self.Downsample_1(inputs)\n",
    "        x = self.ResBlock_1(x)\n",
    "        x = self.Downsample_2(x)\n",
    "        x = self.ResBlock_2(x)\n",
    "        x = self.Flatten(x)\n",
    "        x = self.DenseFinal(x)\n",
    "        return x\n",
    "\n",
    "\n",
    "model = MyModel()\n",
    "x = tf.ones((1000,28,28,1))\n",
    "print(model(x).shape)\n",
    "\n",
    "model.summary()"
   ]
  },
  {
   "cell_type": "markdown",
   "metadata": {},
   "source": [
    "#### Load the MNIST dataset\n",
    "\n",
    "Do various preprocessing operations with it"
   ]
  },
  {
   "cell_type": "code",
   "execution_count": 10,
   "metadata": {},
   "outputs": [
    {
     "name": "stdout",
     "output_type": "stream",
     "text": [
      "Downloading data from https://storage.googleapis.com/tensorflow/tf-keras-datasets/mnist.npz\n",
      "11493376/11490434 [==============================] - 0s 0us/step\n",
      "(5000, 28, 28)\n",
      "train_images shape: (5000, 28, 28, 1)\n",
      "5000 train samples\n",
      "10000 test samples\n"
     ]
    }
   ],
   "source": [
    "(train_images, train_labels), (test_images, test_labels) = mnist.load_data()\n",
    "\n",
    "train_images = train_images[:5000,...]\n",
    "train_labels = train_labels[:5000,...]\n",
    "print(train_images.shape)\n",
    "\n",
    "train_images = train_images.astype('float32')\n",
    "test_images = test_images.astype('float32')\n",
    "\n",
    "train_images = train_images.reshape(train_images.shape[0], 28, 28, 1)\n",
    "test_images = test_images.reshape(test_images.shape[0], 28, 28, 1)\n",
    "\n",
    "train_images /= 255\n",
    "test_images /= 255\n",
    "print('train_images shape:', train_images.shape)\n",
    "print(train_images.shape[0], 'train samples')\n",
    "print(test_images.shape[0], 'test samples')\n",
    "\n",
    "train_dataset = tf.data.Dataset.from_tensor_slices((train_images, train_labels))\n",
    "train_dataset = train_dataset.batch(32)\n",
    "\n",
    "#for x,y in train_dataset:\n",
    "    \n",
    "    #print(x.shape)\n",
    "    #print(y.shape)\n",
    "    #print(loss(x,y))\n",
    "    #print(model(x).shape)\n",
    "    #print(model(x)-y)\n",
    "    "
   ]
  },
  {
   "cell_type": "markdown",
   "metadata": {},
   "source": [
    "#### Define the optimizer \n",
    "\n",
    "Choose an Adam optimizer with learning rate of 0.001"
   ]
  },
  {
   "cell_type": "code",
   "execution_count": 11,
   "metadata": {},
   "outputs": [],
   "source": [
    "optimizer = tf.keras.optimizers.Adam(learning_rate=0.001)"
   ]
  },
  {
   "cell_type": "markdown",
   "metadata": {},
   "source": [
    "#### Define the loss function\n",
    "\n",
    "As loss_object choose the SparseCategoricalCrossentropy"
   ]
  },
  {
   "cell_type": "code",
   "execution_count": 12,
   "metadata": {},
   "outputs": [],
   "source": [
    "loss_object = tf.keras.losses.SparseCategoricalCrossentropy()\n",
    "\n",
    "def loss(inputs, targets):\n",
    "    return loss_object(targets, model(inputs))"
   ]
  },
  {
   "cell_type": "markdown",
   "metadata": {},
   "source": [
    "#### Define the grad function\n",
    "\n",
    "Add the `@tf.function` decorator"
   ]
  },
  {
   "cell_type": "code",
   "execution_count": 13,
   "metadata": {},
   "outputs": [],
   "source": [
    "@tf.function\n",
    "def grad(model, inputs, targets):\n",
    "    with tf.GradientTape() as tape:\n",
    "        loss_value = loss(inputs, targets)\n",
    "    return loss_value, tape.gradient(loss_value, model.trainable_variables)"
   ]
  },
  {
   "cell_type": "markdown",
   "metadata": {},
   "source": [
    "#### Define the customized training loop\n",
    "\n"
   ]
  },
  {
   "cell_type": "code",
   "execution_count": 14,
   "metadata": {},
   "outputs": [
    {
     "name": "stdout",
     "output_type": "stream",
     "text": [
      "Epoch 000: Loss: 0.424, Accuracy: 91.660%\n",
      "Epoch 001: Loss: 0.133, Accuracy: 97.840%\n",
      "Epoch 002: Loss: 0.052, Accuracy: 99.520%\n",
      "Epoch 003: Loss: 0.037, Accuracy: 99.820%\n",
      "Epoch 004: Loss: 0.028, Accuracy: 99.880%\n",
      "Epoch 005: Loss: 0.061, Accuracy: 99.720%\n",
      "Epoch 006: Loss: 0.038, Accuracy: 99.920%\n",
      "Epoch 007: Loss: 0.041, Accuracy: 99.800%\n",
      "Duration :58.657\n"
     ]
    }
   ],
   "source": [
    "from tensorflow.keras.utils import to_categorical\n",
    "\n",
    "# Keep results for plotting\n",
    "train_loss_results = []\n",
    "train_accuracy_results = []\n",
    "\n",
    "num_epochs = 8\n",
    "\n",
    "# Measure the training time\n",
    "start_time = time.time()\n",
    "\n",
    "for epoch in range(num_epochs):\n",
    "    epoch_loss_avg = tf.keras.metrics.Mean()\n",
    "    epoch_accuracy = tf.keras.metrics.CategoricalAccuracy()\n",
    " \n",
    "    # Training loop\n",
    "    for x, y in train_dataset:\n",
    "        # Optimize the model\n",
    "        loss_value, grads = grad(model, x, y)\n",
    "        optimizer.apply_gradients(zip(grads, model.trainable_variables))\n",
    "\n",
    "        # Compute current loss\n",
    "        epoch_loss_avg(loss_value)  \n",
    "        # Compare predicted label to actual label\n",
    "        epoch_accuracy(to_categorical(y), model(x))\n",
    "\n",
    "  # End epoch\n",
    "    train_loss_results.append(epoch_loss_avg.result())\n",
    "    train_accuracy_results.append(epoch_accuracy.result())\n",
    "\n",
    "    print(\"Epoch {:03d}: Loss: {:.3f}, Accuracy: {:.3%}\".format(epoch,\n",
    "                                                                  epoch_loss_avg.result(),\n",
    "                                                                  epoch_accuracy.result()))\n",
    "    \n",
    "print(\"Duration :{:.3f}\".format(time.time() - start_time))"
   ]
  },
  {
   "cell_type": "markdown",
   "metadata": {},
   "source": [
    "#### Check the model performance with the test dataset"
   ]
  },
  {
   "cell_type": "code",
   "execution_count": 15,
   "metadata": {},
   "outputs": [
    {
     "name": "stdout",
     "output_type": "stream",
     "text": [
      "Test loss: 0.261\n",
      "Test accuracy: 94.050%\n"
     ]
    }
   ],
   "source": [
    "test_dataset = tf.data.Dataset.from_tensor_slices((test_images, test_labels))\n",
    "test_dataset = test_dataset.batch(32)\n",
    "\n",
    "epoch_loss_avg = tf.keras.metrics.Mean()\n",
    "epoch_accuracy = tf.keras.metrics.CategoricalAccuracy()\n",
    "\n",
    "# Test loop\n",
    "for x, y in test_dataset:\n",
    "    # Optimize the model\n",
    "    loss_value = loss(x, y)\n",
    "    \n",
    "    # Compute current loss\n",
    "    epoch_loss_avg(loss_value)  \n",
    "    # Compare predicted label to actual label\n",
    "    epoch_accuracy(to_categorical(y), model(x))\n",
    "\n",
    "# End epoch\n",
    "print(\"Test loss: {:.3f}\".format(epoch_loss_avg.result().numpy()))\n",
    "print(\"Test accuracy: {:.3%}\".format(epoch_accuracy.result().numpy()))"
   ]
  },
  {
   "cell_type": "markdown",
   "metadata": {},
   "source": [
    "#### Plot the loss and accuracy evolution throughout the epochs"
   ]
  },
  {
   "cell_type": "code",
   "execution_count": 18,
   "metadata": {},
   "outputs": [
    {
     "data": {
      "image/png": "[encoded data removed]",
      "text/plain": [
       "<Figure size 864x576 with 2 Axes>"
      ]
     },
     "metadata": {
      "needs_background": "light"
     },
     "output_type": "display_data"
    }
   ],
   "source": [
    "import matplotlib.pyplot as plt\n",
    "\n",
    "fig, axes = plt.subplots(2, sharex=True, figsize=(12, 8))\n",
    "fig.suptitle('Training Metrics')\n",
    "\n",
    "axes[0].set_ylabel(\"Loss\", fontsize=14)\n",
    "axes[0].plot(train_loss_results)\n",
    "\n",
    "axes[1].set_ylabel(\"Accuracy\", fontsize=14)\n",
    "axes[1].set_xlabel(\"Epoch\", fontsize=14)\n",
    "axes[1].plot(train_accuracy_results)\n",
    "plt.show()"
   ]
  },
  {
   "cell_type": "markdown",
   "metadata": {},
   "source": [
    "#### Show an example of predicted label"
   ]
  },
  {
   "cell_type": "code",
   "execution_count": 17,
   "metadata": {},
   "outputs": [
    {
     "name": "stdout",
     "output_type": "stream",
     "text": [
      "Prediction: 0\n",
      "     Label: 0\n"
     ]
    }
   ],
   "source": [
    "print(\"Prediction: {}\".format(np.argmax(model(train_images[1,...,np.newaxis].reshape(1,28,28,1)))))\n",
    "print(\"     Label: {}\".format(train_labels[1]))"
   ]
  },
  {
   "cell_type": "code",
   "execution_count": null,
   "metadata": {},
   "outputs": [],
   "source": []
  }
 ],
 "metadata": {
  "kernelspec": {
   "display_name": "Python 3",
   "language": "python",
   "name": "python3"
  },
  "language_info": {
   "codemirror_mode": {
    "name": "ipython",
    "version": 3
   },
   "file_extension": ".py",
   "mimetype": "text/x-python",
   "name": "python",
   "nbconvert_exporter": "python",
   "pygments_lexer": "ipython3",
   "version": "3.7.4"
  }
 },
 "nbformat": 4,
 "nbformat_minor": 2
}
